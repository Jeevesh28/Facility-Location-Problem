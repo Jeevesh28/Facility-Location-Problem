{
  "nbformat": 4,
  "nbformat_minor": 0,
  "metadata": {
    "colab": {
      "name": "UFLP (with and without Disruptions)",
      "provenance": [],
      "collapsed_sections": [],
      "authorship_tag": "ABX9TyPz9hRrZHOWRFV76yaIrmMY",
      "include_colab_link": true
    },
    "kernelspec": {
      "name": "python3",
      "display_name": "Python 3"
    },
    "language_info": {
      "name": "python"
    }
  },
  "cells": [
    {
      "cell_type": "markdown",
      "metadata": {
        "id": "view-in-github",
        "colab_type": "text"
      },
      "source": [
        "<a href=\"https://colab.research.google.com/github/Jeevesh28/Facility-Location-Problem/blob/main/UFLP%20(with%20and%20without%20Disruptions).ipynb\" target=\"_parent\"><img src=\"https://colab.research.google.com/assets/colab-badge.svg\" alt=\"Open In Colab\"/></a>"
      ]
    },
    {
      "cell_type": "markdown",
      "metadata": {
        "id": "2AvLvidA-7pW"
      },
      "source": [
        "The **Gurobi Optimizer** is an optimization solver for linear programming (LP), quadratic programming (QP), quadratically constrained programming (QCP), mixed-integer linear programming (MILP), mixed-integer quadratic programming (MIQP), and mixed-integer quadratically constrained programming (MIQCP)."
      ]
    },
    {
      "cell_type": "code",
      "metadata": {
        "id": "DAFOA6W4UB5g"
      },
      "source": [
        "%%capture\n",
        "!pip install gurobipy;"
      ],
      "execution_count": 1,
      "outputs": []
    },
    {
      "cell_type": "markdown",
      "metadata": {
        "id": "K6ugudi4_r2Y"
      },
      "source": [
        "Importing python libraries:\n",
        "\n",
        "*   **NumPy:** Matrix operations\n",
        "*   **Matplotlib:** Plotting\n",
        "*   **Random:** Randomising facility and customer coordinates"
      ]
    },
    {
      "cell_type": "code",
      "metadata": {
        "id": "ev-1BFO-XFjU"
      },
      "source": [
        "import random\n",
        "import numpy as np\n",
        "import matplotlib.pyplot as plt\n",
        "rnd = np.random\n",
        "rnd.seed(42) # Change seed value to randomise "
      ],
      "execution_count": 2,
      "outputs": []
    },
    {
      "cell_type": "markdown",
      "metadata": {
        "id": "fWr_OjjBBCbi"
      },
      "source": [
        "**Initialising Customers and Facility with random coordinates**"
      ]
    },
    {
      "cell_type": "code",
      "metadata": {
        "id": "Duxl5c7sXIbj"
      },
      "source": [
        "n = 20 # Number of Customer\n",
        "xc = rnd.rand(n) * 200 # x-coordinate\n",
        "yc = rnd.rand(n) * 100 # y-coordinate\n",
        "\n",
        "m = 5  # Numebr of Facility\n",
        "xf = rnd.rand(m) * 200 # x-coordiante \n",
        "yf = rnd.rand(m) * 100 # y-coordiante"
      ],
      "execution_count": 3,
      "outputs": []
    },
    {
      "cell_type": "markdown",
      "metadata": {
        "id": "zCwKXF_ZBVRb"
      },
      "source": [
        "**Plotting Customers (Blue - Circle) and Facility (Red - Square)**"
      ]
    },
    {
      "cell_type": "code",
      "metadata": {
        "colab": {
          "base_uri": "https://localhost:8080/",
          "height": 267
        },
        "id": "2YkUNcYxXRlG",
        "outputId": "8f36098c-0502-4053-8c02-2f16bd7b5702"
      },
      "source": [
        "plt.scatter(xc[0:], yc[0:], c='b', label = 'Customer') # Customer\n",
        "plt.scatter(xf[0:], yf[0:], c='r', marker='s', label = 'Facility') # Facility\n",
        "plt.legend()\n",
        "plt.show();"
      ],
      "execution_count": 4,
      "outputs": [
        {
          "output_type": "display_data",
          "data": {
            "image/png": "[encoded data removed]",
            "text/plain": [
              "<Figure size 432x288 with 1 Axes>"
            ]
          },
          "metadata": {
            "needs_background": "light"
          }
        }
      ]
    },
    {
      "cell_type": "markdown",
      "metadata": {
        "id": "NHUKa9B_CGWI"
      },
      "source": [
        "**1. Building the Cost Function for Undisrupted Uncapacitated Facility Location Problem**\n"
      ]
    },
    {
      "cell_type": "code",
      "metadata": {
        "id": "jI-QPsDWXZfL"
      },
      "source": [
        "I = [i for i in range(0, n)] # Customer\n",
        "J = [i for i in range(0, m)] # Facility\n",
        "h = {i: rnd.randint(1, 10) for i in I} # Demand of Customer\n",
        "A = [(i, j) for i in I for j in J] # 2-D cartesian product\n",
        "f = {j: 100 for j in J} # Fixed setup cost of Facility\n",
        "c = {(i, j): 1*np.hypot(xc[i]-xf[j], yc[i]-yf[j]) for (i, j) in A} # Cost to reach customer from Facility"
      ],
      "execution_count": 5,
      "outputs": []
    },
    {
      "cell_type": "code",
      "metadata": {
        "id": "QqnAEDfVXoXx"
      },
      "source": [
        "from gurobipy import Model, GRB, quicksum"
      ],
      "execution_count": 6,
      "outputs": []
    },
    {
      "cell_type": "code",
      "metadata": {
        "id": "7BD1qhusXpF9"
      },
      "source": [
        "%%capture\n",
        "mdl = Model('UFLP');"
      ],
      "execution_count": 7,
      "outputs": []
    },
    {
      "cell_type": "code",
      "metadata": {
        "id": "zIM3XHDgXqjy"
      },
      "source": [
        "x = mdl.addVars(J, vtype = GRB.BINARY)\n",
        "y = mdl.addVars(A, vtype = GRB.CONTINUOUS) "
      ],
      "execution_count": 8,
      "outputs": []
    },
    {
      "cell_type": "code",
      "metadata": {
        "id": "hTB8ou5gXwD8"
      },
      "source": [
        "mdl.ModelSense = GRB.MINIMIZE # Minimisation model\n",
        "mdl.setObjective(quicksum(f[j]*x[j] for j in J) + quicksum(h[i]*c[i,j]*y[i,j] for i,j in A)) # Cost Function"
      ],
      "execution_count": 9,
      "outputs": []
    },
    {
      "cell_type": "code",
      "metadata": {
        "id": "Ya57kW7aXyuT"
      },
      "source": [
        "mdl.addConstrs(quicksum(y[i,j] for j in J) == 1 for i in I);\n",
        "mdl.addConstrs(y[i,j] <= x[j] for i,j in A);"
      ],
      "execution_count": 10,
      "outputs": []
    },
    {
      "cell_type": "markdown",
      "metadata": {
        "id": "GPO917ANDo5x"
      },
      "source": [
        "**Model Optimization**"
      ]
    },
    {
      "cell_type": "code",
      "metadata": {
        "colab": {
          "base_uri": "https://localhost:8080/"
        },
        "id": "EomwipKAX4NX",
        "outputId": "6942d08e-d696-4941-e2e8-8920929be58c"
      },
      "source": [
        "mdl.optimize() # Solution cost: 3818.43 (varies with changing seed value)"
      ],
      "execution_count": 11,
      "outputs": [
        {
          "output_type": "stream",
          "name": "stdout",
          "text": [
            "Gurobi Optimizer version 9.1.2 build v9.1.2rc0 (linux64)\n",
            "Thread count: 1 physical cores, 2 logical processors, using up to 2 threads\n",
            "Optimize a model with 120 rows, 105 columns and 300 nonzeros\n",
            "Model fingerprint: 0x08ec4171\n",
            "Variable types: 100 continuous, 5 integer (5 binary)\n",
            "Coefficient statistics:\n",
            "  Matrix range     [1e+00, 1e+00]\n",
            "  Objective range  [3e+01, 2e+03]\n",
            "  Bounds range     [1e+00, 1e+00]\n",
            "  RHS range        [1e+00, 1e+00]\n",
            "Presolve time: 0.00s\n",
            "Presolved: 120 rows, 105 columns, 300 nonzeros\n",
            "Variable types: 100 continuous, 5 integer (5 binary)\n",
            "\n",
            "Root relaxation: objective 3.818435e+03, 8 iterations, 0.00 seconds\n",
            "\n",
            "    Nodes    |    Current Node    |     Objective Bounds      |     Work\n",
            " Expl Unexpl |  Obj  Depth IntInf | Incumbent    BestBd   Gap | It/Node Time\n",
            "\n",
            "*    0     0               0    3818.4347491 3818.43475  0.00%     -    0s\n",
            "\n",
            "Explored 0 nodes (8 simplex iterations) in 0.08 seconds\n",
            "Thread count was 2 (of 2 available processors)\n",
            "\n",
            "Solution count 1: 3818.43 \n",
            "\n",
            "Optimal solution found (tolerance 1.00e-04)\n",
            "Best objective 3.818434749094e+03, best bound 3.818434749094e+03, gap 0.0000%\n"
          ]
        }
      ]
    },
    {
      "cell_type": "markdown",
      "metadata": {
        "id": "AE429dmgDwC8"
      },
      "source": [
        "**Customer - Facility mapping**"
      ]
    },
    {
      "cell_type": "code",
      "metadata": {
        "id": "hV0M82BcX5_D"
      },
      "source": [
        "assignment = [a for a in A if y[a].X > 0.0] "
      ],
      "execution_count": 12,
      "outputs": []
    },
    {
      "cell_type": "code",
      "metadata": {
        "colab": {
          "base_uri": "https://localhost:8080/"
        },
        "id": "kxzfw8w8X9Z3",
        "outputId": "161c0920-6516-4afc-8a13-5ec1e5cd310f"
      },
      "source": [
        "assignment # (i, j) == (Customer, Facility)"
      ],
      "execution_count": 13,
      "outputs": [
        {
          "output_type": "execute_result",
          "data": {
            "text/plain": [
              "[(0, 1),\n",
              " (1, 3),\n",
              " (2, 3),\n",
              " (3, 1),\n",
              " (4, 0),\n",
              " (5, 0),\n",
              " (6, 2),\n",
              " (7, 3),\n",
              " (8, 1),\n",
              " (9, 1),\n",
              " (10, 2),\n",
              " (11, 3),\n",
              " (12, 3),\n",
              " (13, 0),\n",
              " (14, 0),\n",
              " (15, 0),\n",
              " (16, 4),\n",
              " (17, 1),\n",
              " (18, 1),\n",
              " (19, 4)]"
            ]
          },
          "metadata": {},
          "execution_count": 13
        }
      ]
    },
    {
      "cell_type": "markdown",
      "metadata": {
        "id": "x585asEFD7e_"
      },
      "source": [
        "**Plotting final obtained map**"
      ]
    },
    {
      "cell_type": "code",
      "metadata": {
        "colab": {
          "base_uri": "https://localhost:8080/",
          "height": 267
        },
        "id": "qc7ZTNWEX_Do",
        "outputId": "f947102b-e483-4cc2-bf74-c2abd2569f7d"
      },
      "source": [
        "for i, j in assignment:\n",
        "    plt.plot([xc[i], xf[j]], [yc[i], yf[j]], c='g', zorder=0)\n",
        "plt.scatter(xc[0:], yc[0:], c='b', label = 'Customer')\n",
        "plt.scatter(xf[0:], yf[0:], c='r',marker='s', label = 'Facility')\n",
        "plt.legend()\n",
        "plt.show();"
      ],
      "execution_count": 14,
      "outputs": [
        {
          "output_type": "display_data",
          "data": {
            "image/png": "[encoded data removed]",
            "text/plain": [
              "<Figure size 432x288 with 1 Axes>"
            ]
          },
          "metadata": {
            "needs_background": "light"
          }
        }
      ]
    },
    {
      "cell_type": "markdown",
      "metadata": {
        "id": "IcrPxaz1Ei2D"
      },
      "source": [
        "**2. Building the Cost Function for Disrupted Uncapacitated Facility Location Problem**"
      ]
    },
    {
      "cell_type": "code",
      "metadata": {
        "id": "Oigqgxr7QyT4"
      },
      "source": [
        "max_disruption = 10000 # High penalty for disrupted facility\n",
        "I = [i for i in range(0, n)] # Customer\n",
        "J = [i for i in range(0, m)] # Facility\n",
        "h = {i: rnd.randint(1, 10) for i in I} # Demand of Customer\n",
        "A = [(i, j) for i in I for j in J] # 2-D cartesian product\n",
        "f = {j: 100 for j in J} # Fixed setup cost of Facility\n",
        "c = {(i, j): 1*np.hypot(xc[i]-xf[j], yc[i]-yf[j]) for (i, j) in A} # Cost to reach customer from Facility\n",
        "p = {j: rnd.choice(np.array((0, max_disruption // 4, max_disruption // 2, max_disruption)), p=[0.5, 0.25, 0.15, 0.1]) for j in J} # Penalty due to disruptions"
      ],
      "execution_count": 15,
      "outputs": []
    },
    {
      "cell_type": "code",
      "metadata": {
        "colab": {
          "base_uri": "https://localhost:8080/"
        },
        "id": "P0X0VeOzQ33q",
        "outputId": "2ef34a45-7389-4a8a-e9d7-5874d6f83590"
      },
      "source": [
        "p # Penalty to Facility (Although used particular fixed values, any probability distribution function can be used instead)"
      ],
      "execution_count": 16,
      "outputs": [
        {
          "output_type": "execute_result",
          "data": {
            "text/plain": [
              "{0: 2500, 1: 0, 2: 2500, 3: 0, 4: 10000}"
            ]
          },
          "metadata": {},
          "execution_count": 16
        }
      ]
    },
    {
      "cell_type": "code",
      "metadata": {
        "id": "l10IjK4lQ7vW"
      },
      "source": [
        "%%capture\n",
        "mdl = Model('UFLP');"
      ],
      "execution_count": 17,
      "outputs": []
    },
    {
      "cell_type": "code",
      "metadata": {
        "id": "M6aqftoDRAlf"
      },
      "source": [
        "x = mdl.addVars(J, vtype = GRB.BINARY)\n",
        "y = mdl.addVars(A, vtype = GRB.CONTINUOUS)"
      ],
      "execution_count": 18,
      "outputs": []
    },
    {
      "cell_type": "code",
      "metadata": {
        "id": "Xv__xeNRRDrN"
      },
      "source": [
        "mdl.ModelSense = GRB.MINIMIZE # Minimization model\n",
        "mdl.setObjective(quicksum(f[j]*x[j] for j in J) + quicksum(h[i]*c[i,j]*y[i,j] for i,j in A) + quicksum(p[j]*x[j] for j in J)) # Cost Function"
      ],
      "execution_count": 19,
      "outputs": []
    },
    {
      "cell_type": "code",
      "metadata": {
        "id": "i0Xcmak2RFvT"
      },
      "source": [
        "mdl.addConstrs(quicksum(y[i,j] for j in J) == 1 for i in I);\n",
        "mdl.addConstrs(y[i,j] <= x[j] for i,j in A);"
      ],
      "execution_count": 20,
      "outputs": []
    },
    {
      "cell_type": "markdown",
      "metadata": {
        "id": "5VoZSschFJ0y"
      },
      "source": [
        "**Model Optimization**"
      ]
    },
    {
      "cell_type": "code",
      "metadata": {
        "colab": {
          "base_uri": "https://localhost:8080/"
        },
        "id": "-s95IGGWRHua",
        "outputId": "3d50a0ac-bda4-45c7-d2fa-9bc2c0f484fa"
      },
      "source": [
        "mdl.optimize() # Solution cost: 5180.93 (varies with changing seed value)"
      ],
      "execution_count": 21,
      "outputs": [
        {
          "output_type": "stream",
          "name": "stdout",
          "text": [
            "Gurobi Optimizer version 9.1.2 build v9.1.2rc0 (linux64)\n",
            "Thread count: 1 physical cores, 2 logical processors, using up to 2 threads\n",
            "Optimize a model with 120 rows, 105 columns and 300 nonzeros\n",
            "Model fingerprint: 0xbe58d5d7\n",
            "Variable types: 100 continuous, 5 integer (5 binary)\n",
            "Coefficient statistics:\n",
            "  Matrix range     [1e+00, 1e+00]\n",
            "  Objective range  [3e+01, 1e+04]\n",
            "  Bounds range     [1e+00, 1e+00]\n",
            "  RHS range        [1e+00, 1e+00]\n",
            "Presolve time: 0.00s\n",
            "Presolved: 120 rows, 105 columns, 300 nonzeros\n",
            "Variable types: 100 continuous, 5 integer (5 binary)\n",
            "\n",
            "Root relaxation: objective 5.180927e+03, 27 iterations, 0.00 seconds\n",
            "\n",
            "    Nodes    |    Current Node    |     Objective Bounds      |     Work\n",
            " Expl Unexpl |  Obj  Depth IntInf | Incumbent    BestBd   Gap | It/Node Time\n",
            "\n",
            "*    0     0               0    5180.9265793 5180.92658  0.00%     -    0s\n",
            "\n",
            "Explored 0 nodes (27 simplex iterations) in 0.05 seconds\n",
            "Thread count was 2 (of 2 available processors)\n",
            "\n",
            "Solution count 1: 5180.93 \n",
            "\n",
            "Optimal solution found (tolerance 1.00e-04)\n",
            "Best objective 5.180926579334e+03, best bound 5.180926579334e+03, gap 0.0000%\n"
          ]
        }
      ]
    },
    {
      "cell_type": "markdown",
      "metadata": {
        "id": "r4Siqub_FfIa"
      },
      "source": [
        "**Customer - Facility mapping**"
      ]
    },
    {
      "cell_type": "code",
      "metadata": {
        "id": "J84LYEPHRJf3"
      },
      "source": [
        "assignment = [a for a in A if y[a].X > 0.0] "
      ],
      "execution_count": 22,
      "outputs": []
    },
    {
      "cell_type": "code",
      "metadata": {
        "colab": {
          "base_uri": "https://localhost:8080/"
        },
        "id": "QABZiWLIRLXm",
        "outputId": "f6903451-922b-4cce-997e-672fcfba127a"
      },
      "source": [
        "assignment # (i, j) == (Customer, Facility)"
      ],
      "execution_count": 23,
      "outputs": [
        {
          "output_type": "execute_result",
          "data": {
            "text/plain": [
              "[(0, 1),\n",
              " (1, 3),\n",
              " (2, 3),\n",
              " (3, 1),\n",
              " (4, 1),\n",
              " (5, 1),\n",
              " (6, 1),\n",
              " (7, 3),\n",
              " (8, 1),\n",
              " (9, 1),\n",
              " (10, 1),\n",
              " (11, 3),\n",
              " (12, 3),\n",
              " (13, 1),\n",
              " (14, 1),\n",
              " (15, 1),\n",
              " (16, 1),\n",
              " (17, 1),\n",
              " (18, 1),\n",
              " (19, 1)]"
            ]
          },
          "metadata": {},
          "execution_count": 23
        }
      ]
    },
    {
      "cell_type": "markdown",
      "metadata": {
        "id": "FBLWjxWmFjLm"
      },
      "source": [
        "**Plotting final obtained map**"
      ]
    },
    {
      "cell_type": "code",
      "metadata": {
        "colab": {
          "base_uri": "https://localhost:8080/",
          "height": 267
        },
        "id": "QZ6tOZE5RMtW",
        "outputId": "d0b050e7-20e5-489b-9a40-9fd25a9f70f5"
      },
      "source": [
        "for i, j in assignment:\n",
        "    plt.plot([xc[i], xf[j]], [yc[i], yf[j]], c='g', zorder=0)\n",
        "plt.scatter(xc[0:], yc[0:], c='b', label = 'Customer')\n",
        "plt.scatter(xf[0:], yf[0:], c='r',marker='s', label = 'Facility')\n",
        "plt.legend()\n",
        "plt.show();"
      ],
      "execution_count": 24,
      "outputs": [
        {
          "output_type": "display_data",
          "data": {
            "image/png": "[encoded data removed]",
            "text/plain": [
              "<Figure size 432x288 with 1 Axes>"
            ]
          },
          "metadata": {
            "needs_background": "light"
          }
        }
      ]
    }
  ]
}